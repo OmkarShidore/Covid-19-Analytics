{
 "cells": [
  {
   "cell_type": "code",
   "execution_count": 1,
   "id": "13ed2f85-ab1e-42cc-bd7c-306b6a4d1641",
   "metadata": {},
   "outputs": [],
   "source": [
    "import pandas as pd\n",
    "import numpy as np\n",
    "import os\n",
    "import matplotlib.pyplot as plt\n",
    "import plotly.express as px\n",
    "import plotly.graph_objects as go\n",
    "from torch.utils.tensorboard import SummaryWriter"
   ]
  },
  {
   "cell_type": "code",
   "execution_count": 2,
   "id": "60a19f07-bdd5-4e4a-954c-efd5085f1e67",
   "metadata": {},
   "outputs": [],
   "source": [
    "confirmed_cases_csv_path = \"./COVID-19/csse_covid_19_data/csse_covid_19_time_series/time_series_covid19_confirmed_global.csv\"\n",
    "death_cases_csv_path = \"./COVID-19/csse_covid_19_data/csse_covid_19_time_series/time_series_covid19_deaths_global.csv\"\n",
    "main_cdf = pd.read_csv(confirmed_cases_csv_path)\n",
    "main_ddf = pd.read_csv(death_cases_csv_path)"
   ]
  },
  {
   "cell_type": "code",
   "execution_count": 3,
   "id": "7ae2a46c-26b3-46ab-b88f-bcd0668d1619",
   "metadata": {},
   "outputs": [],
   "source": [
    "cdf = main_cdf[main_cdf[\"Country/Region\"]==\"India\"]\n",
    "ddf = main_ddf[main_ddf[\"Country/Region\"]==\"India\"]"
   ]
  },
  {
   "cell_type": "code",
   "execution_count": 4,
   "id": "32e70361-f36c-4779-b379-6e7d789ba7ca",
   "metadata": {},
   "outputs": [],
   "source": [
    "def get_data_dict(df):\n",
    "    df_data_dict = {}\n",
    "    prev_day_case = 0\n",
    "    for i, date_string in enumerate(df.iloc[:,4:].columns.values):\n",
    "        #get year month date\n",
    "        year = date_string.split(\"/\")[-1]\n",
    "        month = date_string.split('/')[-3]\n",
    "        date = date_string.split('/')[-2]\n",
    "\n",
    "        if year not in df_data_dict.keys():\n",
    "            df_data_dict.update({year:{}})\n",
    "\n",
    "        if month not in df_data_dict[year].keys():\n",
    "            df_data_dict[year].update({month:{}})\n",
    "\n",
    "        if date not in df_data_dict[year][month].keys():\n",
    "            df_data_dict[year][month].update({date:df.iloc[:,4:][date_string].item()})\n",
    "\n",
    "\n",
    "        if len(date_string.split('/')[-3]) != 2:\n",
    "            g_date = '0'+date_string.split('/')[-3]\n",
    "        else:\n",
    "            g_date = date_string.split('/')[-3]\n",
    "\n",
    "        if len(date_string.split('/')[-2]) != 2:\n",
    "            g_month = '0'+date_string.split('/')[-2]\n",
    "        else:\n",
    "            g_month = date_string.split('/')[-2]\n",
    "\n",
    "        if len(date_string.split('/')[-1]) != 4:\n",
    "            g_year = '20'+date_string.split('/')[-1]\n",
    "        else:\n",
    "            g_year = date_string.split('/')[-1]\n",
    "\n",
    "        g_date_string = int(g_year+g_month+g_date)\n",
    "        today_case = df.iloc[:,4:][date_string].item() - prev_day_case\n",
    "        prev_day_case = df.iloc[:,4:][date_string].item()\n",
    "    return df_data_dict"
   ]
  },
  {
   "cell_type": "code",
   "execution_count": 5,
   "id": "e41ef1ff-0ac5-48bb-8f0d-3bd0a3bb6e86",
   "metadata": {},
   "outputs": [],
   "source": [
    "c_data_dict = get_data_dict(cdf)\n",
    "d_data_dict = get_data_dict(ddf)"
   ]
  },
  {
   "cell_type": "code",
   "execution_count": null,
   "id": "2067294a-9b15-4d9d-b8f6-072c321c3ec6",
   "metadata": {},
   "outputs": [],
   "source": [
    "def get_data_df():\n",
    "    columns = ['org_date','i_date', 'date', 'month', 'year', 'total_confirmed_cases','new_confirmed_cases','new_death_cases', 'total_death_toll']\n",
    "    new_df = pd.DataFrame(columns=columns)\n",
    "    prev_case = 0\n",
    "    prev_death_case = 0\n",
    "    for year in c_data_dict.keys():\n",
    "\n",
    "        if len(year) != 4:\n",
    "            current_year = f\"20{year}\"\n",
    "        else:\n",
    "            current_year = year\n",
    "\n",
    "        for month in c_data_dict[year].keys():\n",
    "\n",
    "            if len(month) !=2:\n",
    "                current_month = f\"0{month}\"\n",
    "            else:\n",
    "                current_month = month\n",
    "\n",
    "            for date in c_data_dict[year][month].keys():\n",
    "                if len(date) != 2:\n",
    "                    current_date = f\"0{date}\"\n",
    "                else:\n",
    "                    current_date = date\n",
    "\n",
    "                org_date = f\"{month}/{date}/{year}\"\n",
    "                i_date = f\"{current_date}-{current_month}-{current_year}\"\n",
    "\n",
    "                total_confirmed_cases = c_data_dict[year][month][date]\n",
    "                total_deaths_cases = d_data_dict[year][month][date]\n",
    "                #new_death_cases = d_data_dict[year][month][date]\n",
    "                #total_deaths += new_death_cases\n",
    "                if d_data_dict[year][month][date] == 0:\n",
    "                    new_death_cases = 0\n",
    "                else:\n",
    "                    new_death_cases = d_data_dict[year][month][date] - prev_death_case\n",
    "\n",
    "                if c_data_dict[year][month][date] == 0:\n",
    "                    new_confirmed_cases = 0\n",
    "                else:\n",
    "                    new_confirmed_cases = total_confirmed_cases - prev_case\n",
    "\n",
    "                data_row = [org_date, i_date, current_date, current_month, current_year, total_confirmed_cases, new_confirmed_cases, new_death_cases, total_deaths_cases]\n",
    "\n",
    "                row_df = pd.DataFrame(data=[data_row], columns = columns)\n",
    "                new_df = new_df.append([row_df])\n",
    "\n",
    "                prev_case = total_confirmed_cases\n",
    "                prev_death_case = total_deaths_cases\n",
    "    return new_df"
   ]
  }
 ],
 "metadata": {
  "kernelspec": {
   "display_name": "Python 3 (ipykernel)",
   "language": "python",
   "name": "python3"
  },
  "language_info": {
   "codemirror_mode": {
    "name": "ipython",
    "version": 3
   },
   "file_extension": ".py",
   "mimetype": "text/x-python",
   "name": "python",
   "nbconvert_exporter": "python",
   "pygments_lexer": "ipython3",
   "version": "3.8.3"
  }
 },
 "nbformat": 4,
 "nbformat_minor": 5
}
